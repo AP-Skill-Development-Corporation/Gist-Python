{
 "cells": [
  {
   "cell_type": "markdown",
   "metadata": {},
   "source": [
    "## Day Objectives: 26-05-21\n",
    "\n",
    "- Functions\n",
    "- Dictionary Methods"
   ]
  },
  {
   "cell_type": "code",
   "execution_count": 4,
   "metadata": {},
   "outputs": [
    {
     "name": "stdout",
     "output_type": "stream",
     "text": [
      "['__class__', '__contains__', '__delattr__', '__delitem__', '__dir__', '__doc__', '__eq__', '__format__', '__ge__', '__getattribute__', '__getitem__', '__gt__', '__hash__', '__init__', '__init_subclass__', '__iter__', '__le__', '__len__', '__lt__', '__ne__', '__new__', '__reduce__', '__reduce_ex__', '__repr__', '__setattr__', '__setitem__', '__sizeof__', '__str__', '__subclasshook__', 'clear', 'copy', 'fromkeys', 'get', 'items', 'keys', 'pop', 'popitem', 'setdefault', 'update', 'values']\n"
     ]
    }
   ],
   "source": [
    "print(dir(dict))"
   ]
  },
  {
   "cell_type": "code",
   "execution_count": 10,
   "metadata": {},
   "outputs": [],
   "source": [
    "days = {0:'sunday',1:'monday',2:'tuesday',3:'wednesday',4:'thursday',5:'friday',6:'saturday'}\n",
    "\n",
    "days[4]\n",
    "\n",
    "days[1]\n",
    "\n",
    "#days[10]\n",
    "\n",
    "days.get(10)  # get()\n",
    "\n",
    "\n",
    "# adding new element to a dictionary\n",
    "days[7] = 'january'"
   ]
  },
  {
   "cell_type": "code",
   "execution_count": 12,
   "metadata": {
    "scrolled": true
   },
   "outputs": [
    {
     "name": "stdout",
     "output_type": "stream",
     "text": [
      "{0: 'sunday', 1: 'monday', 2: 'tuesday', 3: 'wednesday', 4: 'thursday', 5: 'friday', 6: 'saturday', 7: 'january'}\n"
     ]
    }
   ],
   "source": [
    "print(days)\n",
    "\n",
    "days[3] = 'april'"
   ]
  },
  {
   "cell_type": "code",
   "execution_count": 15,
   "metadata": {
    "scrolled": true
   },
   "outputs": [
    {
     "name": "stdout",
     "output_type": "stream",
     "text": [
      "{'name': 'viplav', 'empid': 121, 'salary': 100000, 'edq': 'M.tech'}\n",
      "{'name': 'viplav', 'empid': 1001, 'salary': 100000, 'edq': 'M.tech'}\n"
     ]
    }
   ],
   "source": [
    "# update()\n",
    "emp = {'name':'viplav','empid':121,'salary':100000}\n",
    "\n",
    "# add new pair: edq:M.tech\n",
    "emp.update({'edq':'M.tech'})\n",
    "print(emp)\n",
    "emp.update({'empid':1001})\n",
    "print(emp)"
   ]
  },
  {
   "cell_type": "code",
   "execution_count": 18,
   "metadata": {},
   "outputs": [
    {
     "data": {
      "text/plain": [
       "{0: 'sunday',\n",
       " 1: 'monday',\n",
       " 2: 'tuesday',\n",
       " 3: 'april',\n",
       " 4: 'thursday',\n",
       " 5: 'friday',\n",
       " 6: 'saturday',\n",
       " 7: 'january'}"
      ]
     },
     "execution_count": 18,
     "metadata": {},
     "output_type": "execute_result"
    }
   ],
   "source": [
    "days"
   ]
  },
  {
   "cell_type": "code",
   "execution_count": 19,
   "metadata": {},
   "outputs": [
    {
     "data": {
      "text/plain": [
       "'april'"
      ]
     },
     "execution_count": 19,
     "metadata": {},
     "output_type": "execute_result"
    }
   ],
   "source": [
    "days.pop(3)"
   ]
  },
  {
   "cell_type": "code",
   "execution_count": 22,
   "metadata": {},
   "outputs": [
    {
     "data": {
      "text/plain": [
       "(6, 'saturday')"
      ]
     },
     "execution_count": 22,
     "metadata": {},
     "output_type": "execute_result"
    }
   ],
   "source": [
    "days.popitem()"
   ]
  },
  {
   "cell_type": "code",
   "execution_count": 23,
   "metadata": {},
   "outputs": [
    {
     "data": {
      "text/plain": [
       "{0: 'sunday', 1: 'monday', 2: 'tuesday', 4: 'thursday', 5: 'friday'}"
      ]
     },
     "execution_count": 23,
     "metadata": {},
     "output_type": "execute_result"
    }
   ],
   "source": [
    "days"
   ]
  },
  {
   "cell_type": "code",
   "execution_count": 26,
   "metadata": {},
   "outputs": [
    {
     "name": "stdout",
     "output_type": "stream",
     "text": [
      "0 sunday\n",
      "1 monday\n",
      "2 tuesday\n",
      "4 thursday\n",
      "5 friday\n"
     ]
    }
   ],
   "source": [
    "for key,value in days.items():\n",
    "    print(key,value)"
   ]
  },
  {
   "cell_type": "code",
   "execution_count": 28,
   "metadata": {},
   "outputs": [
    {
     "name": "stdout",
     "output_type": "stream",
     "text": [
      "sunday\n",
      "monday\n",
      "tuesday\n",
      "thursday\n",
      "friday\n"
     ]
    }
   ],
   "source": [
    "for value in days.values():\n",
    "    print(value)"
   ]
  },
  {
   "cell_type": "code",
   "execution_count": 29,
   "metadata": {},
   "outputs": [
    {
     "data": {
      "text/plain": [
       "dict_keys([0, 1, 2, 4, 5])"
      ]
     },
     "execution_count": 29,
     "metadata": {},
     "output_type": "execute_result"
    }
   ],
   "source": [
    "days.keys()"
   ]
  },
  {
   "cell_type": "markdown",
   "metadata": {},
   "source": [
    "## Functions\n",
    "\n",
    "- block of logical statements to perform a specified task.\n",
    "- we can reuse the code again and again.\n",
    "- we can split the entire program into smaller tasks.\n",
    "- Debugging is easy.\n",
    "\n",
    "- we can define functions in python by using a keyword called: \"def\"\n",
    "    - sytax: def fun_name(parameters): # func_def\n",
    "                - statements   \n",
    "                - statemtets           # func_body\n",
    "            -func_name(arguments)      # func_call\n",
    "\n",
    "- Two types functions:\n",
    "    - 1. Built-in functions: the functions which are previously defined by the developer.\n",
    "        - ex: print(),range(),input(),str(),int() ...etc\n",
    "    - 2. User defined functions: which are developed by the user.\n",
    "        - ex: func_name()"
   ]
  },
  {
   "cell_type": "code",
   "execution_count": 36,
   "metadata": {},
   "outputs": [
    {
     "name": "stdout",
     "output_type": "stream",
     "text": [
      "vandana\n",
      "Good Morning !!!  vandana\n",
      "Have a nice day !!\n"
     ]
    }
   ],
   "source": [
    "def greet(name):\n",
    "    print(\"Good Morning !!! \",name)\n",
    "    print(\"Have a nice day !!\")\n",
    "greet(input())"
   ]
  },
  {
   "cell_type": "code",
   "execution_count": 44,
   "metadata": {},
   "outputs": [
    {
     "name": "stdout",
     "output_type": "stream",
     "text": [
      "Enter a number: 123\n",
      "Not a prime\n"
     ]
    }
   ],
   "source": [
    "# WAP to prime number\n",
    "def prime(n):\n",
    "    count = 0\n",
    "    for i in range(1,n):\n",
    "        if n%i==0:\n",
    "            count += 1\n",
    "    if count==1:\n",
    "        print('Prime')\n",
    "    else:\n",
    "        print(\"Not a prime\")\n",
    "#n = int(input())\n",
    "prime(int(input(\"Enter a number: \")))"
   ]
  },
  {
   "cell_type": "code",
   "execution_count": 63,
   "metadata": {},
   "outputs": [
    {
     "name": "stdout",
     "output_type": "stream",
     "text": [
      "15\n"
     ]
    }
   ],
   "source": [
    "def isprime(n):\n",
    "    c = 0 \n",
    "    for i in range(1,n+1):\n",
    "        if n%i==0:\n",
    "            c += 1\n",
    "    if c==2:\n",
    "        return n\n",
    "isprime(int(input())) # to check a given number prime or not "
   ]
  },
  {
   "cell_type": "code",
   "execution_count": 65,
   "metadata": {
    "collapsed": true
   },
   "outputs": [
    {
     "name": "stdout",
     "output_type": "stream",
     "text": [
      "Enter a lowerbound number: 100\n",
      "Enter a upperbound number: 500\n",
      "101\n",
      "103\n",
      "107\n",
      "109\n",
      "113\n",
      "127\n",
      "131\n",
      "137\n",
      "139\n",
      "149\n",
      "151\n",
      "157\n",
      "163\n",
      "167\n",
      "173\n",
      "179\n",
      "181\n",
      "191\n",
      "193\n",
      "197\n",
      "199\n",
      "211\n",
      "223\n",
      "227\n",
      "229\n",
      "233\n",
      "239\n",
      "241\n",
      "251\n",
      "257\n",
      "263\n",
      "269\n",
      "271\n",
      "277\n",
      "281\n",
      "283\n",
      "293\n",
      "307\n",
      "311\n",
      "313\n",
      "317\n",
      "331\n",
      "337\n",
      "347\n",
      "349\n",
      "353\n",
      "359\n",
      "367\n",
      "373\n",
      "379\n",
      "383\n",
      "389\n",
      "397\n",
      "401\n",
      "409\n",
      "419\n",
      "421\n",
      "431\n",
      "433\n",
      "439\n",
      "443\n",
      "449\n",
      "457\n",
      "461\n",
      "463\n",
      "467\n",
      "479\n",
      "487\n",
      "491\n",
      "499\n"
     ]
    }
   ],
   "source": [
    "# WAP to print all the prime number in a given range.\n",
    "# m = 10 n = 30 --> o/p:: all prime number b.w 10 and 30\n",
    "m = int(input(\"Enter a lowerbound number: \"))\n",
    "n = int(input(\"Enter a upperbound number: \"))\n",
    "for num in range(m,n+1):# 1,2,3,4.....20\n",
    "    count = 0\n",
    "    for i in range(1,num+1): # 1-1,1-2,1-3,1-4...1-20\n",
    "        if num%i==0:\n",
    "            count += 1\n",
    "    if count==2:\n",
    "        print(num)"
   ]
  },
  {
   "cell_type": "markdown",
   "metadata": {},
   "source": [
    "## Types of arguments\n",
    "\n",
    "- Default Arguments\n",
    "- Required arguments\n",
    "- keywords arguments\n",
    "- variable lenth arguments"
   ]
  },
  {
   "cell_type": "code",
   "execution_count": 74,
   "metadata": {},
   "outputs": [
    {
     "name": "stdout",
     "output_type": "stream",
     "text": [
      "Name:  james\n",
      "Age:  30\n",
      "Location:  west\n",
      "Name:  moses\n",
      "Age:  25\n",
      "Location:  nellure\n"
     ]
    }
   ],
   "source": [
    "# default arg\n",
    "\n",
    "def emp_details(name,loc,age=25): # age is the default argument.\n",
    "    print(\"Name: \",name)\n",
    "    print(\"Age: \",age)\n",
    "    print(\"Location: \",loc)\n",
    "emp_details('james','west',30)\n",
    "emp_details('moses','nellure')"
   ]
  },
  {
   "cell_type": "code",
   "execution_count": 84,
   "metadata": {},
   "outputs": [
    {
     "data": {
      "text/plain": [
       "12167"
      ]
     },
     "execution_count": 84,
     "metadata": {},
     "output_type": "execute_result"
    }
   ],
   "source": [
    "# required arguments\n",
    "def power(b,e): \n",
    "    return b**e\n",
    "power(2,3)\n",
    "power(23,3)"
   ]
  },
  {
   "cell_type": "code",
   "execution_count": 88,
   "metadata": {
    "collapsed": true
   },
   "outputs": [
    {
     "name": "stdout",
     "output_type": "stream",
     "text": [
      "Name : vamsi\n",
      "Age : 20\n",
      "Roll : 100\n",
      "Branch : cse\n",
      "Name : harika\n",
      "Age : 21\n",
      "Roll : 103\n",
      "Branch : it\n"
     ]
    }
   ],
   "source": [
    "# keyword arguments\n",
    "def student_details(name,age,roll,branch):\n",
    "    print(\"Name :\",name)\n",
    "    print(\"Age :\",age)\n",
    "    print(\"Roll :\",roll)\n",
    "    print(\"Branch :\",branch)\n",
    "student_details('vamsi',20,100,'cse')\n",
    "student_details(age=21,name='harika',branch='it',roll = 103)"
   ]
  },
  {
   "cell_type": "code",
   "execution_count": 91,
   "metadata": {
    "collapsed": true
   },
   "outputs": [
    {
     "name": "stdout",
     "output_type": "stream",
     "text": [
      "1\n",
      "2\n",
      "3\n",
      "4\n",
      "5\n",
      "6\n",
      "7\n",
      "8\n",
      "9\n",
      "10\n",
      "111\n",
      "2\n",
      "3\n",
      "45\n",
      "6\n",
      "7\n"
     ]
    }
   ],
   "source": [
    "# variable lenght arguments\n",
    "def contest(*names):\n",
    "    for i in names:\n",
    "        print(i)\n",
    "contest(1,2,3,4,5,6,7,8,9,10,111,2,3,45,6,7)"
   ]
  },
  {
   "cell_type": "code",
   "execution_count": 98,
   "metadata": {},
   "outputs": [
    {
     "name": "stdout",
     "output_type": "stream",
     "text": [
      "Enter a number :0\n"
     ]
    },
    {
     "data": {
      "text/plain": [
       "1"
      ]
     },
     "execution_count": 98,
     "metadata": {},
     "output_type": "execute_result"
    }
   ],
   "source": [
    "## factorial program\n",
    "\n",
    "def fact(num):\n",
    "    if num==0 or num==1:\n",
    "        return 1\n",
    "    else:\n",
    "        return num*fact(num-1)\n",
    "fact(int(input(\"Enter a number :\")))"
   ]
  },
  {
   "cell_type": "code",
   "execution_count": null,
   "metadata": {},
   "outputs": [],
   "source": []
  },
  {
   "cell_type": "code",
   "execution_count": null,
   "metadata": {},
   "outputs": [],
   "source": []
  }
 ],
 "metadata": {
  "kernelspec": {
   "display_name": "Python 3",
   "language": "python",
   "name": "python3"
  },
  "language_info": {
   "codemirror_mode": {
    "name": "ipython",
    "version": 3
   },
   "file_extension": ".py",
   "mimetype": "text/x-python",
   "name": "python",
   "nbconvert_exporter": "python",
   "pygments_lexer": "ipython3",
   "version": "3.7.6"
  }
 },
 "nbformat": 4,
 "nbformat_minor": 4
}
