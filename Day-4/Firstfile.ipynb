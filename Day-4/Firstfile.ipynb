{
 "cells": [
  {
   "cell_type": "markdown",
   "metadata": {},
   "source": [
    " # Python programming\n",
    "     - Variables\n",
    "     - Operators\n",
    "     - Control Statements\n",
    " # ShortCuts\n",
    "     - Runcell \n",
    "         - Shift+Enter\n",
    "     - add cell in above\n",
    "         - esc+a\n",
    "      - Add Cell in Below\n",
    "          - esc+b\n",
    "       - Delete Cell\n",
    "           - Esc+DD\n",
    "        - Move Code Mode into Markdown mode\n",
    "            -Esc+M\n",
    "        - Move Markdow into Code Mode\n",
    "               - Esc+Y\n",
    "        - Move to RAW\n",
    "                - Esc+R\n",
    "        - Move To Headings(1,2,3,4,5,6)\n",
    "            - Esc+1\n",
    "            - Esc+2\n",
    "            - Esc+3\n",
    "            - Esc+4\n",
    "            - Esc+5\n",
    "            - Esc+6\n",
    "          -Select Above Cells\n",
    "              ->Esc+Shift+k\n",
    "          - Restrat kernal\n",
    "              - ESC+00\n",
    "          - Comment (#)\n",
    "              - ctrl+/\n",
    "\n",
    "    "
   ]
  },
  {
   "cell_type": "markdown",
   "metadata": {},
   "source": [
    "## Variables"
   ]
  },
  {
   "cell_type": "code",
   "execution_count": 4,
   "metadata": {},
   "outputs": [
    {
     "name": "stdout",
     "output_type": "stream",
     "text": [
      "20 40 vijay 2.5 9.222222222222221\n",
      "<class 'int'> <class 'int'> <class 'str'> <class 'float'> <class 'float'>\n",
      "319030644668355812568138956105120151128362398627925451572165365000683041164\n"
     ]
    }
   ],
   "source": [
    "# int a=10;\n",
    "# float b=20.4;\n",
    "\n",
    "a=20\n",
    "b=40\n",
    "c=\"vijay\"\n",
    "d=2.5\n",
    "e=9.22222222222222222222222222222222\n",
    "print(a,b,c,d,e)\n",
    "print(type(a),type(b),type(c),type(d),type(e))\n",
    "\n",
    "# int a=84564654646546416546545646545465465454;\n",
    "#long long int a=84564654646546416546545646545465465454;\n",
    "a=584564654646546416546545646545465465454454548787788\n",
    "b=545757671341343443354353\n",
    "print(a*b)\n",
    "\n",
    "\n",
    "\n"
   ]
  },
  {
   "cell_type": "code",
   "execution_count": null,
   "metadata": {},
   "outputs": [],
   "source": []
  }
 ],
 "metadata": {
  "kernelspec": {
   "display_name": "Python 3",
   "language": "python",
   "name": "python3"
  },
  "language_info": {
   "codemirror_mode": {
    "name": "ipython",
    "version": 3
   },
   "file_extension": ".py",
   "mimetype": "text/x-python",
   "name": "python",
   "nbconvert_exporter": "python",
   "pygments_lexer": "ipython3",
   "version": "3.7.1"
  }
 },
 "nbformat": 4,
 "nbformat_minor": 2
}
