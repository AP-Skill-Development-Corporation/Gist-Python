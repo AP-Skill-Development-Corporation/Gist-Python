{
 "cells": [
  {
   "cell_type": "code",
   "execution_count": 3,
   "metadata": {},
   "outputs": [
    {
     "data": {
      "text/plain": [
       "True"
      ]
     },
     "execution_count": 3,
     "metadata": {},
     "output_type": "execute_result"
    }
   ],
   "source": [
    "#lambda function\n",
    "\n",
    "# def is_even(n):\n",
    "#     if n%2==0:\n",
    "#         return True\n",
    "# is_even(10)\n",
    "\n",
    "is_even=lambda n: n%2==0\n",
    "is_even(8)"
   ]
  },
  {
   "cell_type": "code",
   "execution_count": 4,
   "metadata": {},
   "outputs": [
    {
     "data": {
      "text/plain": [
       "True"
      ]
     },
     "execution_count": 4,
     "metadata": {},
     "output_type": "execute_result"
    }
   ],
   "source": [
    "#odd\n",
    "is_odd=lambda n: n%2==1\n",
    "is_odd(7)"
   ]
  },
  {
   "cell_type": "code",
   "execution_count": 5,
   "metadata": {},
   "outputs": [
    {
     "data": {
      "text/plain": [
       "30"
      ]
     },
     "execution_count": 5,
     "metadata": {},
     "output_type": "execute_result"
    }
   ],
   "source": [
    "def value_sum(a,b):\n",
    "    return a+b\n",
    "value_sum(10,20)"
   ]
  },
  {
   "cell_type": "code",
   "execution_count": 6,
   "metadata": {},
   "outputs": [
    {
     "data": {
      "text/plain": [
       "30"
      ]
     },
     "execution_count": 6,
     "metadata": {},
     "output_type": "execute_result"
    }
   ],
   "source": [
    "s1=lambda a,b: a+b\n",
    "s1(10,20)"
   ]
  },
  {
   "cell_type": "code",
   "execution_count": 8,
   "metadata": {},
   "outputs": [
    {
     "data": {
      "text/plain": [
       "200"
      ]
     },
     "execution_count": 8,
     "metadata": {},
     "output_type": "execute_result"
    }
   ],
   "source": [
    "s2=lambda a,b,c: a+b+c\n",
    "s2(50,60,90)"
   ]
  },
  {
   "cell_type": "code",
   "execution_count": 9,
   "metadata": {},
   "outputs": [
    {
     "name": "stdout",
     "output_type": "stream",
     "text": [
      "[2, 4, 6, 8]\n"
     ]
    }
   ],
   "source": [
    "# Normal Way to find list of Even Values\n",
    "def is_Even(n):\n",
    "    if n%2==0:\n",
    "        return True\n",
    "l=[1,2,3,4,5,6,7,8]\n",
    "l2=[]\n",
    "for i in l:\n",
    "    if is_Even(i): # or if is_Even(i) ==True\n",
    "        l2.append(i)\n",
    "        \n",
    "print(l2)\n"
   ]
  },
  {
   "cell_type": "code",
   "execution_count": 29,
   "metadata": {},
   "outputs": [],
   "source": [
    "#Fileter Functionality to find list of Even Values\n",
    "\n",
    "def is_Even(n):\n",
    "    if n%2==0:\n",
    "        return True\n",
    "l=[2,3,4,5,6,7,8]\n",
    "data=filter(is_Even,l)\n"
   ]
  },
  {
   "cell_type": "code",
   "execution_count": 30,
   "metadata": {},
   "outputs": [
    {
     "name": "stdout",
     "output_type": "stream",
     "text": [
      "2 4 6 8\n"
     ]
    }
   ],
   "source": [
    "# if you want access object values we have to use *\n",
    "# print(*data)\n",
    "print(*data)"
   ]
  },
  {
   "cell_type": "code",
   "execution_count": 23,
   "metadata": {},
   "outputs": [
    {
     "name": "stdout",
     "output_type": "stream",
     "text": [
      "[2, 4, 6, 8]\n"
     ]
    }
   ],
   "source": [
    "# if you want access object values we have to use typecasting like list,tuple,set\n",
    "# print(list(data))"
   ]
  },
  {
   "cell_type": "code",
   "execution_count": 26,
   "metadata": {},
   "outputs": [
    {
     "name": "stdout",
     "output_type": "stream",
     "text": [
      "(2, 4, 6, 8)\n"
     ]
    }
   ],
   "source": [
    "# print(tuple(data))"
   ]
  },
  {
   "cell_type": "code",
   "execution_count": 28,
   "metadata": {},
   "outputs": [
    {
     "name": "stdout",
     "output_type": "stream",
     "text": [
      "{8, 2, 4, 6}\n"
     ]
    }
   ],
   "source": [
    "print(set(data))"
   ]
  },
  {
   "cell_type": "code",
   "execution_count": 33,
   "metadata": {},
   "outputs": [
    {
     "name": "stdout",
     "output_type": "stream",
     "text": [
      "[10, 44, 66, 12, 16, 20]\n"
     ]
    }
   ],
   "source": [
    "is_even=list(filter(lambda n : n%2==0,[10,44,66,77,12,15,16,20]))\n",
    "# print(*is_even)\n",
    "print(is_even)"
   ]
  },
  {
   "cell_type": "code",
   "execution_count": 40,
   "metadata": {},
   "outputs": [
    {
     "name": "stdout",
     "output_type": "stream",
     "text": [
      "[1, None, 3, None, 5, None, 7]\n",
      "[1, 3, 5, 7]\n"
     ]
    }
   ],
   "source": [
    "def is_odd(n):\n",
    "    if n%2==1:\n",
    "        return n\n",
    "data1=list(map(is_odd,[1,2,3,4,5,6,7]))\n",
    "print(data1)\n",
    "data2=list(filter(None,data1))\n",
    "print(data2)"
   ]
  },
  {
   "cell_type": "code",
   "execution_count": 41,
   "metadata": {},
   "outputs": [
    {
     "name": "stdout",
     "output_type": "stream",
     "text": [
      "[6, 8, 10, 12, 14, 7]\n"
     ]
    }
   ],
   "source": [
    "l1=[1,2,3,4,5,6]\n",
    "l2=[5,6,7,8,9,1]\n",
    "# output=[6,8,10,12,14,7]\n",
    "def addlists(l1,l2):\n",
    "    l3=[]\n",
    "    for i in range(len(l1)):\n",
    "        l3.append(l1[i]+l2[i])\n",
    "    return l3\n",
    "print(addlists(l1,l2))\n",
    "    "
   ]
  },
  {
   "cell_type": "code",
   "execution_count": 42,
   "metadata": {},
   "outputs": [
    {
     "ename": "SyntaxError",
     "evalue": "invalid syntax (<ipython-input-42-860e4694c6d5>, line 1)",
     "output_type": "error",
     "traceback": [
      "\u001b[1;36m  File \u001b[1;32m\"<ipython-input-42-860e4694c6d5>\"\u001b[1;36m, line \u001b[1;32m1\u001b[0m\n\u001b[1;33m    data=lambda l1,l2: for i in range(len(l1)) l1[i]+l2[i]\u001b[0m\n\u001b[1;37m                         ^\u001b[0m\n\u001b[1;31mSyntaxError\u001b[0m\u001b[1;31m:\u001b[0m invalid syntax\n"
     ]
    }
   ],
   "source": [
    "# data=lambda l1,l2: for i in range(len(l1)) l1[i]+l2[i]\n",
    "# # print(data(l1,l2))"
   ]
  },
  {
   "cell_type": "code",
   "execution_count": 46,
   "metadata": {},
   "outputs": [
    {
     "name": "stdout",
     "output_type": "stream",
     "text": [
      "[7, 9, 11, 13, 15, 8]\n"
     ]
    }
   ],
   "source": [
    "l1=[1,2,3,4,5,6]\n",
    "l2=[5,6,7,8,9,1]\n",
    "l3=[1,1,1,1,1,1]\n",
    "# def add(n1,n2,n3):\n",
    "#     return n1+n2+n3\n",
    "data =map(lambda n1,n2,n3: n1+n2+n3 ,l1,l2,l3)\n",
    "print(list(data))"
   ]
  },
  {
   "cell_type": "code",
   "execution_count": 50,
   "metadata": {},
   "outputs": [
    {
     "name": "stdout",
     "output_type": "stream",
     "text": [
      "[1, 2, 3, 4, 5, 6, 7, 8]\n"
     ]
    }
   ],
   "source": [
    "l=\"12345678\"\n",
    "# l=[1,2,3,4,5,6,7,8]\n",
    "out=[]\n",
    "for i in range(len(l)):\n",
    "    out.append(int(l[i]))\n",
    "print(out)"
   ]
  },
  {
   "cell_type": "code",
   "execution_count": 51,
   "metadata": {},
   "outputs": [
    {
     "data": {
      "text/plain": [
       "int"
      ]
     },
     "execution_count": 51,
     "metadata": {},
     "output_type": "execute_result"
    }
   ],
   "source": [
    "type(out[1])"
   ]
  },
  {
   "cell_type": "code",
   "execution_count": 52,
   "metadata": {},
   "outputs": [
    {
     "data": {
      "text/plain": [
       "str"
      ]
     },
     "execution_count": 52,
     "metadata": {},
     "output_type": "execute_result"
    }
   ],
   "source": [
    "type(l[1])"
   ]
  },
  {
   "cell_type": "code",
   "execution_count": 78,
   "metadata": {},
   "outputs": [
    {
     "name": "stdout",
     "output_type": "stream",
     "text": [
      "['1', '2', '3', '4', '5', '6', '7', '8', '9']\n",
      "[1, 2, 3, 4, 5, 6, 7, 8, 9]\n"
     ]
    }
   ],
   "source": [
    "l=\"123456789\"\n",
    "int(l[0])+int(l[1])+int(l[2])\n",
    "# s=0\n",
    "# for num in l:\n",
    "#     s=s+int(num)\n",
    "# print(s)\n",
    "l1=list(l)\n",
    "print(l1)\n",
    "def convert(ch):\n",
    "    return int(ch)\n",
    "l2=[]\n",
    "for i in l1:\n",
    "    l2.append(convert(i))\n",
    "print(sum(l2))\n",
    "\n",
    "\n",
    "data=map()"
   ]
  },
  {
   "cell_type": "code",
   "execution_count": 87,
   "metadata": {},
   "outputs": [
    {
     "name": "stdout",
     "output_type": "stream",
     "text": [
      "45\n"
     ]
    }
   ],
   "source": [
    "l=\"123456789\"\n",
    "# l2=list(l)\n",
    "# print(l2)\n",
    "# data=map(int,l2)\n",
    "# print(data)\n",
    "\n",
    "# sdata=list(data)\n",
    "\n",
    "# print(sum(sdata))\n",
    "\n",
    "\n",
    "data=sum(list(map(int,list(l))))\n",
    "print(data)"
   ]
  },
  {
   "cell_type": "code",
   "execution_count": 91,
   "metadata": {},
   "outputs": [
    {
     "name": "stdout",
     "output_type": "stream",
     "text": [
      "[2, 4, 6, 8]\n"
     ]
    }
   ],
   "source": [
    "l=\"123456789\"\n",
    "def is_even(n):\n",
    "    if n%2==0:\n",
    "        return n\n",
    "\n",
    "odata=list(map(int,list(l)))\n",
    "data=list(map(is_even,odata))\n",
    "# print(data)\n",
    "data=list(filter(None,data))\n",
    "print(data)\n"
   ]
  },
  {
   "cell_type": "code",
   "execution_count": 95,
   "metadata": {},
   "outputs": [
    {
     "name": "stdout",
     "output_type": "stream",
     "text": [
      "1 10 1\n",
      "[1, 10, 1]\n",
      "10\n"
     ]
    }
   ],
   "source": [
    "# input:1 10 1\n",
    "# output:10\n",
    "\n",
    "data=input()\n",
    "data=data.split()\n",
    "data=list(map(int,data))\n",
    "print(data)\n",
    "l=data[0]\n",
    "r=data[1]\n",
    "k=data[2]\n",
    "count =0\n",
    "for i in range(l,r+1):\n",
    "    if i%k==0:\n",
    "        count=count+1\n",
    "print(count)"
   ]
  },
  {
   "cell_type": "code",
   "execution_count": 54,
   "metadata": {},
   "outputs": [
    {
     "name": "stdout",
     "output_type": "stream",
     "text": [
      "['1', '2', '3', '4', '5', '6', '7', '8', '9']\n",
      "[1, 2, 3, 4, 5, 6, 7, 8, 9]\n"
     ]
    }
   ],
   "source": [
    "l=\"123456789\"\n",
    "l1=list(l)\n",
    "print(l1)\n",
    "l3=list(map(int,l1))\n",
    "print(l3)"
   ]
  },
  {
   "cell_type": "code",
   "execution_count": 55,
   "metadata": {},
   "outputs": [
    {
     "name": "stdout",
     "output_type": "stream",
     "text": [
      "[1, 2, 3, 4, 5, 6, 7, 8, 9]\n"
     ]
    }
   ],
   "source": [
    "l=\"123456789\"\n",
    "print(list(map(int,list(l))))"
   ]
  },
  {
   "cell_type": "code",
   "execution_count": 67,
   "metadata": {},
   "outputs": [
    {
     "name": "stdout",
     "output_type": "stream",
     "text": [
      "[False, True, False, True, False, True, False, True, False]\n"
     ]
    }
   ],
   "source": [
    "l=\"123456789\"\n",
    "print(list(map(lambda n:n%2==0  ,list(map(int,list(l))))))"
   ]
  },
  {
   "cell_type": "code",
   "execution_count": 72,
   "metadata": {},
   "outputs": [
    {
     "name": "stdout",
     "output_type": "stream",
     "text": [
      "[2, 4, 6, 8]\n"
     ]
    }
   ],
   "source": [
    "l=\"123456789\"\n",
    "def is_even(n):\n",
    "    if n%2==0:\n",
    "        return n\n",
    "data=list(map(int,list(l)))\n",
    "data=list(map(is_even,data))\n",
    "print(list(filter(None,data)))"
   ]
  },
  {
   "cell_type": "code",
   "execution_count": 73,
   "metadata": {},
   "outputs": [
    {
     "name": "stdout",
     "output_type": "stream",
     "text": [
      "[2, 4, 6, 8]\n"
     ]
    }
   ],
   "source": [
    "print(list(filter(None,list(map(is_even,list(map(int,list(l))))))))"
   ]
  },
  {
   "cell_type": "code",
   "execution_count": null,
   "metadata": {},
   "outputs": [],
   "source": []
  }
 ],
 "metadata": {
  "kernelspec": {
   "display_name": "Python 3",
   "language": "python",
   "name": "python3"
  },
  "language_info": {
   "codemirror_mode": {
    "name": "ipython",
    "version": 3
   },
   "file_extension": ".py",
   "mimetype": "text/x-python",
   "name": "python",
   "nbconvert_exporter": "python",
   "pygments_lexer": "ipython3",
   "version": "3.7.1"
  }
 },
 "nbformat": 4,
 "nbformat_minor": 2
}
