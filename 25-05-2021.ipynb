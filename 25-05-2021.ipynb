{
 "cells": [
  {
   "cell_type": "markdown",
   "metadata": {},
   "source": [
    "## Day Objectives:\n",
    "\n",
    "- Tuples\n",
    "    - what is a tuple ?\n",
    "    - Tuple declaration\n",
    "    - Tuple Methods\n",
    "- Sets\n",
    "    - What is a set?\n",
    "    - Set declaration\n",
    "    - Set Operations.\n",
    "- Dictionaries."
   ]
  },
  {
   "cell_type": "markdown",
   "metadata": {},
   "source": [
    "### Tuples\n",
    "\n",
    "- One of the DS in python\n",
    "- It is immutable DS\n",
    "- Declared by using ()\n",
    "- we can store homogeneous and heterogeneous data."
   ]
  },
  {
   "cell_type": "code",
   "execution_count": 8,
   "metadata": {},
   "outputs": [
    {
     "data": {
      "text/plain": [
       "'ujnam'"
      ]
     },
     "execution_count": 8,
     "metadata": {},
     "output_type": "execute_result"
    }
   ],
   "source": [
    "# tuple declaration\n",
    "t1 = (11,10.8,'manju','green','2021')\n",
    "#print(t1)\n",
    "type(t1)\n",
    "\n",
    "# tuple indexing and accessing\n",
    "t1[3] # green\n",
    "\n",
    "t1[4] # last element\n",
    "t1[-1] # last element\n",
    "\n",
    "# slicing\n",
    "t1[1:3] # get 1st and 2nd index elements.\n",
    "\n",
    "t1[:3] # first 3 elements\n",
    "\n",
    "t1[::2] # every 2nd element\n",
    "\n",
    "# how can we reverse the entire tuple.\n",
    "t1[::-1]\n",
    "\n",
    "# how can i reverese one of the elements 'manju'\n",
    "t1[2][::-1]"
   ]
  },
  {
   "cell_type": "code",
   "execution_count": 14,
   "metadata": {
    "collapsed": true
   },
   "outputs": [
    {
     "name": "stdout",
     "output_type": "stream",
     "text": [
      "False\n",
      "True\n",
      "(11, 10.8, 'manju', 'green', '2021', 1, 2, 3)\n",
      "11 10.8 manju green 2021 1 2 3 "
     ]
    }
   ],
   "source": [
    "t2 = (1,2,3)\n",
    "t2 *3 # repetition\n",
    "\n",
    "# membership operators: in and not in\n",
    "\n",
    "print(7 in t2)\n",
    "print(10 not in t2)\n",
    "\n",
    "t3 = t1+t2 # concatenation.\n",
    "print(t3)\n",
    "\n",
    "for i in t3:\n",
    "    print(i,end= \" \")"
   ]
  },
  {
   "cell_type": "code",
   "execution_count": 15,
   "metadata": {
    "collapsed": true
   },
   "outputs": [
    {
     "name": "stdout",
     "output_type": "stream",
     "text": [
      "['__add__', '__class__', '__contains__', '__delattr__', '__dir__', '__doc__', '__eq__', '__format__', '__ge__', '__getattribute__', '__getitem__', '__getnewargs__', '__gt__', '__hash__', '__init__', '__init_subclass__', '__iter__', '__le__', '__len__', '__lt__', '__mul__', '__ne__', '__new__', '__reduce__', '__reduce_ex__', '__repr__', '__rmul__', '__setattr__', '__sizeof__', '__str__', '__subclasshook__', 'count', 'index']\n"
     ]
    }
   ],
   "source": [
    "# Tuples Methods\n",
    "print(dir(tuple))"
   ]
  },
  {
   "cell_type": "code",
   "execution_count": 23,
   "metadata": {
    "collapsed": true
   },
   "outputs": [
    {
     "name": "stdout",
     "output_type": "stream",
     "text": [
      "4\n"
     ]
    },
    {
     "data": {
      "text/plain": [
       "0"
      ]
     },
     "execution_count": 23,
     "metadata": {},
     "output_type": "execute_result"
    }
   ],
   "source": [
    "t4 = (1,2,3,4,1,2,4,5,6,2,1,1)\n",
    "# count()\n",
    "print(t4.count(1))\n",
    "# index()\n",
    "t4.index(1)"
   ]
  },
  {
   "cell_type": "code",
   "execution_count": 24,
   "metadata": {
    "collapsed": true
   },
   "outputs": [
    {
     "ename": "TypeError",
     "evalue": "'tuple' object does not support item assignment",
     "output_type": "error",
     "traceback": [
      "\u001b[1;31m---------------------------------------------------------------------------\u001b[0m",
      "\u001b[1;31mTypeError\u001b[0m                                 Traceback (most recent call last)",
      "\u001b[1;32m<ipython-input-24-9ff51093b9e9>\u001b[0m in \u001b[0;36m<module>\u001b[1;34m\u001b[0m\n\u001b[1;32m----> 1\u001b[1;33m \u001b[0mt4\u001b[0m\u001b[1;33m[\u001b[0m\u001b[1;36m1\u001b[0m\u001b[1;33m]\u001b[0m\u001b[1;33m=\u001b[0m\u001b[1;36m10\u001b[0m\u001b[1;33m\u001b[0m\u001b[1;33m\u001b[0m\u001b[0m\n\u001b[0m",
      "\u001b[1;31mTypeError\u001b[0m: 'tuple' object does not support item assignment"
     ]
    }
   ],
   "source": [
    "t4[1]=10 # bcz tuple is immutable."
   ]
  },
  {
   "cell_type": "code",
   "execution_count": 28,
   "metadata": {
    "collapsed": true
   },
   "outputs": [
    {
     "name": "stdout",
     "output_type": "stream",
     "text": [
      "[1, 2, 3, 4, 1, 2, 4, 5, 6, 2, 1, 1]\n",
      "[1, 10, 3, 4, 1, 2, 4, 5, 6, 2, 1, 1]\n",
      "(1, 10, 3, 4, 1, 2, 4, 5, 6, 2, 1, 1)\n"
     ]
    }
   ],
   "source": [
    "li = list(t4) # converting tuple-t4 into list-li\n",
    "print(li)\n",
    "li[1] = 10 # element modification\n",
    "print(li)\n",
    "t4 = tuple(li) # again converting list-li into tuple-t4\n",
    "print(t4) "
   ]
  },
  {
   "cell_type": "markdown",
   "metadata": {},
   "source": [
    "## Sets\n",
    "\n",
    "- Set is a mutable Data structure in python.\n",
    "- Declared or defined by using {}\n",
    "- sets doesn't allow repetition.\n",
    "- Set is an unorders collection of elements\n",
    "- Indexing and Slicing are not possible in sets."
   ]
  },
  {
   "cell_type": "code",
   "execution_count": 32,
   "metadata": {},
   "outputs": [
    {
     "name": "stdout",
     "output_type": "stream",
     "text": [
      "{'yellow', 'purple', 'red', 'green'}\n",
      "{0, 2, 3, 6, 8}\n"
     ]
    }
   ],
   "source": [
    "s = {'green','yellow','red','purple'}\n",
    "print(s)\n",
    "\n",
    "s1 = {6,3,0,2,8}\n",
    "print(s1)"
   ]
  },
  {
   "cell_type": "code",
   "execution_count": 34,
   "metadata": {
    "collapsed": true
   },
   "outputs": [
    {
     "name": "stdout",
     "output_type": "stream",
     "text": [
      "8 4\n",
      "[5, 2, 9, 6, 2, 5, 5, 9]\n",
      "{9, 2, 5, 6}\n"
     ]
    }
   ],
   "source": [
    "li = [5,2,9,6,2,5,5,9]\n",
    "s = {5,2,9,6,2,5,5,9}\n",
    "\n",
    "print(len(li),len(s))\n",
    "print(li)\n",
    "print(s)"
   ]
  },
  {
   "cell_type": "markdown",
   "metadata": {},
   "source": [
    "### Set Operations \n",
    "\n",
    "- Union\n",
    "- Intersection\n",
    "- Difference"
   ]
  },
  {
   "cell_type": "code",
   "execution_count": 39,
   "metadata": {
    "collapsed": true
   },
   "outputs": [
    {
     "name": "stdout",
     "output_type": "stream",
     "text": [
      "{0, 1, 2, 3, 4, 5, 6, 7, 8, 9}\n",
      "{3, 7}\n",
      "{8, 2, 4, 6}\n",
      "{0, 1, 2, 4, 5, 6, 8, 9}\n"
     ]
    }
   ],
   "source": [
    "x = {2,3,4,6,7,8}\n",
    "y = {1,5,3,7,9,0}\n",
    "\n",
    "# Union\n",
    "print(x|y)\n",
    "\n",
    "# Intersection\n",
    "print(x&y)\n",
    "\n",
    "# Difference\n",
    "print(x-y)\n",
    "\n",
    "# Symmetric-Differnce\n",
    "print(x^y)"
   ]
  },
  {
   "cell_type": "code",
   "execution_count": 41,
   "metadata": {},
   "outputs": [
    {
     "name": "stdout",
     "output_type": "stream",
     "text": [
      "['__and__', '__class__', '__contains__', '__delattr__', '__dir__', '__doc__', '__eq__', '__format__', '__ge__', '__getattribute__', '__gt__', '__hash__', '__iand__', '__init__', '__init_subclass__', '__ior__', '__isub__', '__iter__', '__ixor__', '__le__', '__len__', '__lt__', '__ne__', '__new__', '__or__', '__rand__', '__reduce__', '__reduce_ex__', '__repr__', '__ror__', '__rsub__', '__rxor__', '__setattr__', '__sizeof__', '__str__', '__sub__', '__subclasshook__', '__xor__', 'add', 'clear', 'copy', 'difference', 'difference_update', 'discard', 'intersection', 'intersection_update', 'isdisjoint', 'issubset', 'issuperset', 'pop', 'remove', 'symmetric_difference', 'symmetric_difference_update', 'union', 'update']\n"
     ]
    }
   ],
   "source": [
    "print(dir(set))"
   ]
  },
  {
   "cell_type": "code",
   "execution_count": 61,
   "metadata": {
    "collapsed": true
   },
   "outputs": [
    {
     "name": "stdout",
     "output_type": "stream",
     "text": [
      "{'pear', 'watermelon', 'banana', 'kiwi', 'apple', 'mango', 'strawberry', 'orange', 'grapes', 'custard apple', 'guava'}\n",
      "{'watermelon', 'banana', 'kiwi', 'apple', 'mango', 'strawberry', 'orange', 'grapes', 'custard apple', 'guava'}\n"
     ]
    }
   ],
   "source": [
    "fruits = {'grapes','banana','orange'}\n",
    "# add()\n",
    "fruits.add('watermelon')\n",
    "#fruits.add(('papaya','pineapple'))\n",
    "#print(fruits)\n",
    "# update()\n",
    "fruits.update(['apple','kiwi'])\n",
    "fruits.update(('mango','strawberry'))\n",
    "fruits.update({'custard apple','guava','pear'})\n",
    "print(fruits)\n",
    "# pop()\n",
    "fruits.pop() # it removes a random element.\n",
    "print(fruits)\n",
    "# copy()\n",
    "#s4 = fruits.copy()\n",
    "#print(s4)"
   ]
  },
  {
   "cell_type": "code",
   "execution_count": 70,
   "metadata": {},
   "outputs": [],
   "source": [
    "vowels = {'a','e','i','o','u'}\n",
    "\n",
    "# remove()  \n",
    "vowels.remove('i')"
   ]
  },
  {
   "cell_type": "code",
   "execution_count": 64,
   "metadata": {},
   "outputs": [],
   "source": [
    "vowels.discard('u')"
   ]
  },
  {
   "cell_type": "code",
   "execution_count": 71,
   "metadata": {
    "collapsed": true
   },
   "outputs": [
    {
     "ename": "KeyError",
     "evalue": "'i'",
     "output_type": "error",
     "traceback": [
      "\u001b[1;31m---------------------------------------------------------------------------\u001b[0m",
      "\u001b[1;31mKeyError\u001b[0m                                  Traceback (most recent call last)",
      "\u001b[1;32m<ipython-input-71-b8b45c756cb1>\u001b[0m in \u001b[0;36m<module>\u001b[1;34m\u001b[0m\n\u001b[1;32m----> 1\u001b[1;33m \u001b[0mvowels\u001b[0m\u001b[1;33m.\u001b[0m\u001b[0mremove\u001b[0m\u001b[1;33m(\u001b[0m\u001b[1;34m'i'\u001b[0m\u001b[1;33m)\u001b[0m\u001b[1;33m\u001b[0m\u001b[1;33m\u001b[0m\u001b[0m\n\u001b[0m",
      "\u001b[1;31mKeyError\u001b[0m: 'i'"
     ]
    }
   ],
   "source": [
    "vowels.remove('i')"
   ]
  },
  {
   "cell_type": "code",
   "execution_count": 72,
   "metadata": {},
   "outputs": [],
   "source": [
    "vowels.discard('i')"
   ]
  },
  {
   "cell_type": "code",
   "execution_count": 91,
   "metadata": {},
   "outputs": [
    {
     "name": "stdout",
     "output_type": "stream",
     "text": [
      "{0, 1, 2, 3, 4, 5, 6, 7, 8, 9}\n",
      "{3, 7}\n",
      "x-y: {8, 2, 4, 6}\n",
      "y-x:  {0, 1, 5, 9}\n",
      "symmetric difference:  {0, 1, 2, 4, 5, 6, 8, 9}\n",
      "{2, 3, 4, 6, 7, 8}\n",
      "{0, 1, 3, 5, 7, 9}\n"
     ]
    }
   ],
   "source": [
    "x = {2,3,4,6,7,8}\n",
    "y = {1,5,3,7,9,0}\n",
    "\n",
    "# Set Methods\n",
    "# union()\n",
    "print(x.union(y)) # x|y\n",
    "\n",
    "# intersection()\n",
    "print(x.intersection(y)) # x&y\n",
    "\n",
    "# difference()\n",
    "print(\"x-y:\",x.difference(y)) # x-y\n",
    "print(\"y-x: \",y.difference(x)) # y-x\n",
    "\n",
    "# symmetric_difference()\n",
    "print(\"symmetric difference: \",x.symmetric_difference(y)) # x^y\n",
    "\n",
    "print(x)\n",
    "print(y)"
   ]
  },
  {
   "cell_type": "code",
   "execution_count": 87,
   "metadata": {},
   "outputs": [],
   "source": [
    "# intersection_update\n",
    "x.intersection_update(y) # {3,7}\n",
    "# difference_update\n",
    "y.difference_update(x) "
   ]
  },
  {
   "cell_type": "code",
   "execution_count": 92,
   "metadata": {
    "collapsed": true
   },
   "outputs": [
    {
     "name": "stdout",
     "output_type": "stream",
     "text": [
      "{0, 1, 2, 4, 5, 6, 8, 9}\n",
      "{0, 1, 3, 5, 7, 9}\n"
     ]
    }
   ],
   "source": [
    "# symmetric_difference_update\n",
    "x.symmetric_difference_update(y)\n",
    "print(x)\n",
    "print(y)"
   ]
  },
  {
   "cell_type": "code",
   "execution_count": 101,
   "metadata": {
    "collapsed": true
   },
   "outputs": [
    {
     "data": {
      "text/plain": [
       "False"
      ]
     },
     "execution_count": 101,
     "metadata": {},
     "output_type": "execute_result"
    }
   ],
   "source": [
    "a = {1,2,3,4,5}\n",
    "b = {2,4,8}\n",
    "c = {7,8,9}\n",
    "# isdisjoint()\n",
    "b.isdisjoint(c) \n",
    "# issuperset()\n",
    "a.issuperset(b)\n",
    "# issubset()\n",
    "b.issubset(a)"
   ]
  },
  {
   "cell_type": "markdown",
   "metadata": {},
   "source": [
    "## Dictionaries\n",
    "\n",
    "- It is a mutable Data structure in python\n",
    "- Data will be stored like key:value pairs\n",
    "- defined by using {key1:value1,key2:value2.....keyn:valuen}"
   ]
  },
  {
   "cell_type": "code",
   "execution_count": 2,
   "metadata": {},
   "outputs": [],
   "source": [
    "student = {'name':'sudha','rollno':3350,'branch':'CSE','section':'CSE-A','place':'Krishna'}"
   ]
  },
  {
   "cell_type": "code",
   "execution_count": 109,
   "metadata": {},
   "outputs": [
    {
     "data": {
      "text/plain": [
       "dict_items([('name', 'sudha'), ('rollno', 3350), ('branch', 'CSE'), ('section', 'CSE-A'), ('place', 'Krishna')])"
      ]
     },
     "execution_count": 109,
     "metadata": {},
     "output_type": "execute_result"
    }
   ],
   "source": [
    "student['name']\n",
    "\n",
    "student['rollno']\n",
    "\n",
    "#print(student)\n",
    "student.keys()\n",
    "\n",
    "student.values()\n",
    "\n",
    "student.items()"
   ]
  },
  {
   "cell_type": "code",
   "execution_count": 106,
   "metadata": {
    "collapsed": true
   },
   "outputs": [
    {
     "data": {
      "text/plain": [
       "['__class__',\n",
       " '__contains__',\n",
       " '__delattr__',\n",
       " '__delitem__',\n",
       " '__dir__',\n",
       " '__doc__',\n",
       " '__eq__',\n",
       " '__format__',\n",
       " '__ge__',\n",
       " '__getattribute__',\n",
       " '__getitem__',\n",
       " '__gt__',\n",
       " '__hash__',\n",
       " '__init__',\n",
       " '__init_subclass__',\n",
       " '__iter__',\n",
       " '__le__',\n",
       " '__len__',\n",
       " '__lt__',\n",
       " '__ne__',\n",
       " '__new__',\n",
       " '__reduce__',\n",
       " '__reduce_ex__',\n",
       " '__repr__',\n",
       " '__setattr__',\n",
       " '__setitem__',\n",
       " '__sizeof__',\n",
       " '__str__',\n",
       " '__subclasshook__',\n",
       " 'clear',\n",
       " 'copy',\n",
       " 'fromkeys',\n",
       " 'get',\n",
       " 'items',\n",
       " 'keys',\n",
       " 'pop',\n",
       " 'popitem',\n",
       " 'setdefault',\n",
       " 'update',\n",
       " 'values']"
      ]
     },
     "execution_count": 106,
     "metadata": {},
     "output_type": "execute_result"
    }
   ],
   "source": [
    "dir(dict)"
   ]
  },
  {
   "cell_type": "code",
   "execution_count": 6,
   "metadata": {},
   "outputs": [],
   "source": [
    "student.get('branchh')"
   ]
  },
  {
   "cell_type": "code",
   "execution_count": null,
   "metadata": {},
   "outputs": [],
   "source": []
  }
 ],
 "metadata": {
  "kernelspec": {
   "display_name": "Python 3",
   "language": "python",
   "name": "python3"
  },
  "language_info": {
   "codemirror_mode": {
    "name": "ipython",
    "version": 3
   },
   "file_extension": ".py",
   "mimetype": "text/x-python",
   "name": "python",
   "nbconvert_exporter": "python",
   "pygments_lexer": "ipython3",
   "version": "3.7.6"
  }
 },
 "nbformat": 4,
 "nbformat_minor": 4
}
